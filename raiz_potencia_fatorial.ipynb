{
 "cells": [
  {
   "cell_type": "markdown",
   "id": "6acae717",
   "metadata": {},
   "source": [
    "# O código visa simplesmente realizar três tipos de operações matemáticas básicas, sendo elas: Raiz Quadrada; Potência e Fatorial"
   ]
  },
  {
   "cell_type": "code",
   "execution_count": null,
   "id": "69e6fe1a",
   "metadata": {},
   "outputs": [
    {
     "name": "stdout",
     "output_type": "stream",
     "text": [
      "Menu de Opções:\n",
      "1 - Calcular raiz quadrada\n",
      "2 - Calcular potência\n",
      "3 - Calcular fatorial\n",
      "0 - Sair\n",
      "Escolha uma opção: 3\n",
      "Digite um número: 5\n",
      "O fatorial de 5 é 120\n",
      "Menu de Opções:\n",
      "1 - Calcular raiz quadrada\n",
      "2 - Calcular potência\n",
      "3 - Calcular fatorial\n",
      "0 - Sair\n"
     ]
    }
   ],
   "source": [
    "import math\n",
    "\n",
    "def calcular_raiz_quadrada(numero):\n",
    "    return math.sqrt(numero)\n",
    "\n",
    "def calcular_potencia(base, expoente):\n",
    "    return base ** expoente\n",
    "\n",
    "def calcular_fatorial(numero):\n",
    "    if numero == 0:\n",
    "        return 1\n",
    "    else:\n",
    "        return numero * calcular_fatorial(numero - 1)\n",
    "\n",
    "def main():\n",
    "    while True:\n",
    "        print(\"Menu de Opções:\")\n",
    "        print(\"1 - Calcular raiz quadrada\")\n",
    "        print(\"2 - Calcular potência\")\n",
    "        print(\"3 - Calcular fatorial\")\n",
    "        print(\"0 - Sair\")\n",
    "        \n",
    "        opcao = int(input(\"Escolha uma opção: \"))\n",
    "        \n",
    "        if opcao == 0:\n",
    "            print(\"Encerrando o programa.\")\n",
    "            break\n",
    "        elif opcao >= 1 and opcao <= 3:\n",
    "            numero = float(input(\"Digite um número: \"))\n",
    "            \n",
    "            if opcao == 1:\n",
    "                resultado = calcular_raiz_quadrada(numero)\n",
    "                print(f\"A raiz quadrada de {numero} é {resultado}\")\n",
    "            elif opcao == 2:\n",
    "                expoente = float(input(\"Digite o expoente: \"))\n",
    "                resultado = calcular_potencia(numero, expoente)\n",
    "                print(f\"{numero} elevado a {expoente} é {resultado}\")\n",
    "            elif opcao == 3:\n",
    "                resultado = calcular_fatorial(int(numero))\n",
    "                print(f\"O fatorial de {int(numero)} é {resultado}\")\n",
    "        else:\n",
    "            print(\"Opção inválida. Escolha uma opção válida.\")\n",
    "\n",
    "if __name__ == \"__main__\":\n",
    "    main()\n"
   ]
  }
 ],
 "metadata": {
  "kernelspec": {
   "display_name": "Python 3 (ipykernel)",
   "language": "python",
   "name": "python3"
  },
  "language_info": {
   "codemirror_mode": {
    "name": "ipython",
    "version": 3
   },
   "file_extension": ".py",
   "mimetype": "text/x-python",
   "name": "python",
   "nbconvert_exporter": "python",
   "pygments_lexer": "ipython3",
   "version": "3.9.13"
  }
 },
 "nbformat": 4,
 "nbformat_minor": 5
}
